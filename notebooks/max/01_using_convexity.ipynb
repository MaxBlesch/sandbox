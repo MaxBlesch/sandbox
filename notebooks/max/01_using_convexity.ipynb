{
 "cells": [
  {
   "cell_type": "code",
   "execution_count": 1,
   "metadata": {},
   "outputs": [],
   "source": [
    "from robupy.get_worst_case import get_worst_case_probs, criterion_full\n",
    "from robupy.minimize_scalar import fminbound_numba\n",
    "import numpy as np\n",
    "import numba\n",
    "\n",
    "import matplotlib.pyplot as plt\n",
    "from robupy.config import EPS_FLOAT\n",
    "from robupy.config import MAX_FLOAT\n",
    "%load_ext autoreload\n",
    "%autoreload"
   ]
  },
  {
   "cell_type": "code",
   "execution_count": 2,
   "metadata": {},
   "outputs": [],
   "source": [
    "n_points = 5\n",
    "max_x = 4\n",
    "v = np.arange(0, max_x, max_x / n_points)\n",
    "v_max = np.max(v)\n",
    "q = np.full(n_points, 1 / n_points)\n",
    "beta = 0.05"
   ]
  },
  {
   "cell_type": "code",
   "execution_count": 7,
   "metadata": {},
   "outputs": [
    {
     "name": "stdout",
     "output_type": "stream",
     "text": [
      "8.87 µs ± 370 ns per loop (mean ± std. dev. of 7 runs, 10000 loops each)\n"
     ]
    }
   ],
   "source": [
    "%timeit -n10000 get_worst_case_probs(v, q, beta, is_cost=False)"
   ]
  },
  {
   "cell_type": "code",
   "execution_count": 5,
   "metadata": {},
   "outputs": [],
   "source": [
    "x = np.linspace(0.5,10, 100)"
   ]
  },
  {
   "cell_type": "code",
   "execution_count": 8,
   "metadata": {},
   "outputs": [],
   "source": [
    "rstl = []\n",
    "for i in x:\n",
    "    rstl += [criterion_full(i, v, v_max, q, beta)]"
   ]
  },
  {
   "cell_type": "code",
   "execution_count": 9,
   "metadata": {},
   "outputs": [
    {
     "data": {
      "text/plain": [
       "[<matplotlib.lines.Line2D at 0x7fdf43901390>]"
      ]
     },
     "execution_count": 9,
     "metadata": {},
     "output_type": "execute_result"
    },
    {
     "data": {
      "image/png": "[encoded data removed]",
      "text/plain": [
       "<Figure size 432x288 with 1 Axes>"
      ]
     },
     "metadata": {
      "needs_background": "light"
     },
     "output_type": "display_data"
    }
   ],
   "source": [
    "plt.plot(x, rstl)"
   ]
  },
  {
   "cell_type": "code",
   "execution_count": 14,
   "metadata": {},
   "outputs": [],
   "source": [
    "@numba.jit(nopython=True)\n",
    "def bisect(func, lower, upper, args=(), xatol=1e-1, maxfun=500):\n",
    "    k = 0\n",
    "    a = x_old = lower\n",
    "    b = x_new = upper\n",
    "    while (abs(x_new - x_old) > xatol) & (k < maxfun):\n",
    "        x_old = x_new\n",
    "        x_new = (a + b) / 2\n",
    "        sign = func(x_new + 1e-6, *args) - func(x_new, *args)\n",
    "        if sign < 0:\n",
    "            a = x_new\n",
    "        else:\n",
    "            b = x_new\n",
    "        k = k + 1\n",
    "    return x_new, k"
   ]
  },
  {
   "cell_type": "code",
   "execution_count": 15,
   "metadata": {},
   "outputs": [],
   "source": [
    "upper = np.maximum((v_max - np.dot(q, v)) / beta, 2 * EPS_FLOAT)\n",
    "lower = EPS_FLOAT"
   ]
  },
  {
   "cell_type": "code",
   "execution_count": 18,
   "metadata": {},
   "outputs": [
    {
     "name": "stdout",
     "output_type": "stream",
     "text": [
      "20 µs ± 4.59 µs per loop (mean ± std. dev. of 7 runs, 100 loops each)\n"
     ]
    }
   ],
   "source": [
    "%timeit -n100 fminbound_numba(criterion_full, lower, upper, args=(v, v_max, q, beta), xatol=1e-5)"
   ]
  },
  {
   "cell_type": "code",
   "execution_count": 19,
   "metadata": {},
   "outputs": [
    {
     "name": "stdout",
     "output_type": "stream",
     "text": [
      "139 µs ± 14.6 µs per loop (mean ± std. dev. of 7 runs, 100 loops each)\n"
     ]
    }
   ],
   "source": [
    "%timeit -n100 bisect(criterion_full, lower, upper, args=(v, v_max, q, beta), xatol=1e-5)"
   ]
  },
  {
   "cell_type": "code",
   "execution_count": null,
   "metadata": {},
   "outputs": [],
   "source": []
  }
 ],
 "metadata": {
  "kernelspec": {
   "display_name": "Python 3",
   "language": "python",
   "name": "python3"
  },
  "language_info": {
   "codemirror_mode": {
    "name": "ipython",
    "version": 3
   },
   "file_extension": ".py",
   "mimetype": "text/x-python",
   "name": "python",
   "nbconvert_exporter": "python",
   "pygments_lexer": "ipython3",
   "version": "3.7.3"
  }
 },
 "nbformat": 4,
 "nbformat_minor": 4
}

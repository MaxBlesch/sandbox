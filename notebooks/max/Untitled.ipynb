{
 "cells": [
  {
   "cell_type": "code",
   "execution_count": 1,
   "metadata": {},
   "outputs": [],
   "source": [
    "from respy.shared import calculate_expected_value_functions\n",
    "import numpy as np\n",
    "import numba as nb\n",
    "%load_ext autoreload\n",
    "%autoreload 2b\n",
    "import os"
   ]
  },
  {
   "cell_type": "code",
   "execution_count": 5,
   "metadata": {},
   "outputs": [],
   "source": [
    "@nb.jit(nopython=True)\n",
    "def repeat_jit(n):\n",
    "    return np.repeat(1.0 / n, n)"
   ]
  },
  {
   "cell_type": "code",
   "execution_count": 6,
   "metadata": {},
   "outputs": [],
   "source": [
    "@nb.jit(nopython=True)\n",
    "def ones_jit(n):\n",
    "    return np.ones(n) / n"
   ]
  },
  {
   "cell_type": "code",
   "execution_count": 26,
   "metadata": {},
   "outputs": [
    {
     "name": "stdout",
     "output_type": "stream",
     "text": [
      "785 ns ± 67.6 ns per loop (mean ± std. dev. of 7 runs, 100000 loops each)\n"
     ]
    }
   ],
   "source": [
    "%timeit -n100000 repeat_jit(1000)"
   ]
  },
  {
   "cell_type": "code",
   "execution_count": 27,
   "metadata": {},
   "outputs": [
    {
     "name": "stdout",
     "output_type": "stream",
     "text": [
      "2.92 µs ± 48.9 ns per loop (mean ± std. dev. of 7 runs, 100000 loops each)\n"
     ]
    }
   ],
   "source": [
    "%timeit -n100000 ones_jit(1000)"
   ]
  },
  {
   "cell_type": "code",
   "execution_count": 2,
   "metadata": {},
   "outputs": [],
   "source": [
    "wages = np.loadtxt(\"kw_one_wages.txt\")\n",
    "nonpecs = np.loadtxt(\"kw_one_nonpecs.txt\")\n",
    "continuation_values = np.loadtxt(\"kw_one_continuation_values.txt\")\n",
    "period_draws_emax_risk = np.loadtxt(\"kw_one_period_draws_emax_risk.txt\")\n",
    "delta = 0.95"
   ]
  },
  {
   "cell_type": "code",
   "execution_count": 3,
   "metadata": {},
   "outputs": [],
   "source": [
    "# update = {\n",
    "# \"NUMBA_NUM_THREADS\": \"2\",\n",
    "# \"OMP_NUM_THREADS\": \"1\",\n",
    "# \"OPENBLAS_NUM_THREADS\": \"1\",\n",
    "# \"NUMEXPR_NUM_THREADS\": \"1\",\n",
    "# \"MKL_NUM_THREADS\": \"1\",\n",
    "# }\n",
    "# os.environ.update(update)"
   ]
  },
  {
   "cell_type": "code",
   "execution_count": 5,
   "metadata": {},
   "outputs": [
    {
     "name": "stdout",
     "output_type": "stream",
     "text": [
      "19.6 ms ± 424 µs per loop (mean ± std. dev. of 7 runs, 100 loops each)\n"
     ]
    }
   ],
   "source": [
    "%timeit calculate_expected_value_functions(wages, nonpecs, continuation_values, period_draws_emax_risk, delta)"
   ]
  },
  {
   "cell_type": "code",
   "execution_count": 10,
   "metadata": {},
   "outputs": [
    {
     "data": {
      "text/plain": [
       "array([[2.13861758e+04, 4.05179352e+04, 1.00000000e+00, 1.00000000e+00]])"
      ]
     },
     "execution_count": 10,
     "metadata": {},
     "output_type": "execute_result"
    }
   ],
   "source": [
    "wages[:1, :]"
   ]
  },
  {
   "cell_type": "code",
   "execution_count": 5,
   "metadata": {},
   "outputs": [
    {
     "data": {
      "text/plain": [
       "array([4., 4., 4., ..., 4., 4., 4.])"
      ]
     },
     "execution_count": 5,
     "metadata": {},
     "output_type": "execute_result"
    }
   ],
   "source": [
    "sol"
   ]
  },
  {
   "cell_type": "code",
   "execution_count": 29,
   "metadata": {},
   "outputs": [],
   "source": [
    "non_flow_utility = nonpecs + delta * continuation_values"
   ]
  },
  {
   "cell_type": "code",
   "execution_count": 33,
   "metadata": {},
   "outputs": [
    {
     "data": {
      "text/plain": [
       "array([    0.,     0., -4000., 17750.])"
      ]
     },
     "execution_count": 33,
     "metadata": {},
     "output_type": "execute_result"
    }
   ],
   "source": [
    "non_flow_utility"
   ]
  },
  {
   "cell_type": "code",
   "execution_count": 31,
   "metadata": {},
   "outputs": [
    {
     "data": {
      "text/plain": [
       "(4,)"
      ]
     },
     "execution_count": 31,
     "metadata": {},
     "output_type": "execute_result"
    }
   ],
   "source": [
    "wages.shape"
   ]
  },
  {
   "cell_type": "code",
   "execution_count": 32,
   "metadata": {},
   "outputs": [
    {
     "data": {
      "text/plain": [
       "(500, 4)"
      ]
     },
     "execution_count": 32,
     "metadata": {},
     "output_type": "execute_result"
    }
   ],
   "source": [
    "period_draws_emax_risk.shape"
   ]
  },
  {
   "cell_type": "code",
   "execution_count": 35,
   "metadata": {},
   "outputs": [
    {
     "data": {
      "text/plain": [
       "array([22954.39871649, 36786.10912916,   379.53370579, -1636.77275741])"
      ]
     },
     "execution_count": 35,
     "metadata": {},
     "output_type": "execute_result"
    }
   ],
   "source": [
    "wages * period_draws_emax_risk[0, :]"
   ]
  },
  {
   "cell_type": "code",
   "execution_count": 36,
   "metadata": {},
   "outputs": [
    {
     "data": {
      "text/plain": [
       "array([[ 1.07332882e+00,  9.07896933e-01,  3.79533706e+02,\n",
       "        -1.63677276e+03],\n",
       "       [ 9.73313806e-01,  9.03907382e-01, -3.86924079e+03,\n",
       "         1.56823640e+02],\n",
       "       [ 1.24956656e+00,  1.17168266e+00,  2.19215379e+02,\n",
       "        -3.88066576e+02],\n",
       "       ...,\n",
       "       [ 8.90716806e-01,  1.17883779e+00, -3.38487476e+03,\n",
       "        -2.05019961e+03],\n",
       "       [ 8.91606273e-01,  9.11082136e-01,  3.71068829e+02,\n",
       "        -3.39268365e+02],\n",
       "       [ 9.17007918e-01,  7.48313713e-01,  4.66763916e+03,\n",
       "         2.81094896e+03]])"
      ]
     },
     "execution_count": 36,
     "metadata": {},
     "output_type": "execute_result"
    }
   ],
   "source": [
    "period_draws_emax_risk"
   ]
  },
  {
   "cell_type": "code",
   "execution_count": null,
   "metadata": {},
   "outputs": [],
   "source": []
  }
 ],
 "metadata": {
  "kernelspec": {
   "display_name": "Python 3",
   "language": "python",
   "name": "python3"
  },
  "language_info": {
   "codemirror_mode": {
    "name": "ipython",
    "version": 3
   },
   "file_extension": ".py",
   "mimetype": "text/x-python",
   "name": "python",
   "nbconvert_exporter": "python",
   "pygments_lexer": "ipython3",
   "version": "3.7.3"
  }
 },
 "nbformat": 4,
 "nbformat_minor": 4
}
